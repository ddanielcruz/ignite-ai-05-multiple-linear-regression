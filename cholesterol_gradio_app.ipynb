{
 "cells": [
  {
   "cell_type": "code",
   "execution_count": 2,
   "metadata": {},
   "outputs": [],
   "source": [
    "import gradio as gr\n",
    "import pandas as pd\n",
    "import joblib"
   ]
  },
  {
   "cell_type": "code",
   "execution_count": 4,
   "metadata": {},
   "outputs": [],
   "source": [
    "# Load the model\n",
    "model = joblib.load(\"models/cholesterol_model.pkl\")"
   ]
  },
  {
   "cell_type": "code",
   "execution_count": 21,
   "metadata": {},
   "outputs": [],
   "source": [
    "# Define the prediction function\n",
    "def predict(\n",
    "    blood_type: str,\n",
    "    smoker: bool,\n",
    "    activity_level: str,\n",
    "    age: int,\n",
    "    weight: float,\n",
    "    height: int,\n",
    ") -> float:\n",
    "    input = {\n",
    "        \"blood_type\": blood_type,\n",
    "        \"smoker\": \"Sim\" if smoker else \"Não\",\n",
    "        \"activity_level\": activity_level,\n",
    "        \"age\": age,\n",
    "        \"weight\": weight,\n",
    "        \"height\": height,\n",
    "    }\n",
    "    input_df = pd.DataFrame(input, index=[0])\n",
    "\n",
    "    return float(model.predict(input_df)[0])"
   ]
  },
  {
   "cell_type": "code",
   "execution_count": 22,
   "metadata": {},
   "outputs": [],
   "source": [
    "demo = gr.Interface(\n",
    "    fn=predict,\n",
    "    inputs=[\n",
    "        gr.Radio(choices=[\"A\", \"B\", \"AB\", \"O\"], label=\"Tipo Sanguíneo\"),\n",
    "        gr.Checkbox(label=\"Fumante?\"),\n",
    "        gr.Radio([\"Baixo\", \"Moderado\", \"Alto\"], label=\"Nível de Atividade Física\"),\n",
    "        gr.Number(label=\"Idade\", minimum=20, maximum=80),\n",
    "        gr.Number(label=\"Peso\", minimum=40),\n",
    "        gr.Number(label=\"Altura\"),\n",
    "    ],\n",
    "    outputs=\"number\",\n",
    "    title=\"Previsão de Colesterol\",\n",
    "    description=\"Modelo para prever o nível de colesterol de uma pessoa\",\n",
    ")"
   ]
  },
  {
   "cell_type": "code",
   "execution_count": 24,
   "metadata": {},
   "outputs": [
    {
     "name": "stdout",
     "output_type": "stream",
     "text": [
      "Rerunning server... use `close()` to stop if you need to change `launch()` parameters.\n",
      "----\n",
      "Running on public URL: https://370455ef21fbbff12b.gradio.live\n",
      "\n",
      "This share link expires in 72 hours. For free permanent hosting and GPU upgrades, run `gradio deploy` from Terminal to deploy to Spaces (https://huggingface.co/spaces)\n"
     ]
    },
    {
     "data": {
      "text/html": [
       "<div><iframe src=\"https://370455ef21fbbff12b.gradio.live\" width=\"100%\" height=\"500\" allow=\"autoplay; camera; microphone; clipboard-read; clipboard-write;\" frameborder=\"0\" allowfullscreen></iframe></div>"
      ],
      "text/plain": [
       "<IPython.core.display.HTML object>"
      ]
     },
     "metadata": {},
     "output_type": "display_data"
    },
    {
     "data": {
      "text/plain": []
     },
     "execution_count": 24,
     "metadata": {},
     "output_type": "execute_result"
    }
   ],
   "source": [
    "demo.launch(share=True)"
   ]
  }
 ],
 "metadata": {
  "kernelspec": {
   "display_name": "ignite-ai-05-multiple-linear-regression-LzeV5xef",
   "language": "python",
   "name": "python3"
  },
  "language_info": {
   "codemirror_mode": {
    "name": "ipython",
    "version": 3
   },
   "file_extension": ".py",
   "mimetype": "text/x-python",
   "name": "python",
   "nbconvert_exporter": "python",
   "pygments_lexer": "ipython3",
   "version": "3.11.9"
  }
 },
 "nbformat": 4,
 "nbformat_minor": 2
}
